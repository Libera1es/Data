{
 "cells": [
  {
   "cell_type": "code",
   "execution_count": 218,
   "metadata": {},
   "outputs": [],
   "source": [
    "import requests\n",
    "import pandas as pd "
   ]
  },
  {
   "cell_type": "code",
   "execution_count": 219,
   "metadata": {},
   "outputs": [],
   "source": [
    "#1\n",
    "url = 'http://dataservices.imf.org/REST/SDMX_JSON.svc/'\n",
    "key = 'CompactData/IFS/M.GB.PMP_IX' # adjust codes here\n",
    "\n",
    "# Navigate to series in API-returned JSON data\n",
    "data = (requests.get(f'{url}{key}').json()\n",
    "        ['CompactData']['DataSet']['Series'])\n",
    "\n",
    "# Create pandas dataframe from the observations\n",
    "data_list = [[obs.get('@TIME_PERIOD'), obs.get('@OBS_VALUE')]\n",
    "             for obs in data['Obs']]\n",
    "\n",
    "df = pd.DataFrame(data_list, columns=['date', 'value'])\n",
    "df = df.set_index(pd.to_datetime(df['date']))['value'].astype('float')"
   ]
  },
  {
   "cell_type": "code",
   "execution_count": 220,
   "metadata": {},
   "outputs": [
    {
     "name": "stdout",
     "output_type": "stream",
     "text": [
      "Dimension 1: CL_FREQ\n",
      "Dimension 2: CL_AREA_IFS\n",
      "Dimension 3: CL_INDICATOR_IFS\n"
     ]
    }
   ],
   "source": [
    "key = 'DataStructure/IFS'  # Method / series\n",
    "dimension_list = requests.get(f'{url}{key}').json()\\\n",
    "            ['Structure']['KeyFamilies']['KeyFamily']\\\n",
    "            ['Components']['Dimension']\n",
    "for n, dimension in enumerate(dimension_list):\n",
    "    print(f'Dimension {n+1}: {dimension['@codelist']}')"
   ]
  },
  {
   "cell_type": "code",
   "execution_count": 242,
   "metadata": {},
   "outputs": [],
   "source": [
    "def get_imf_code_list(dimension_list:list, dimension_num:int):\n",
    "    url = 'http://dataservices.imf.org/REST/SDMX_JSON.svc/'\n",
    "    #if dimension_num == 0, give codes for all elements of the dimension_list\n",
    "    if dimension_num == 0:\n",
    "        code_dict = {}\n",
    "        for i in range(len(dimension_list)):\n",
    "            search_key = dimension_list[i]['@codelist']\n",
    "            key = f\"CodeList/{search_key}\"\n",
    "            if key == \"CodeList/CL_FREQ\": #CL_FREQがなぜかErrorで返ってくる\n",
    "                continue\n",
    "            code_list = requests.get(f'{url}{key}').json()\\\n",
    "            ['Structure']['CodeLists']['CodeList']['Code']\n",
    "            code = [(c['Description']['#text'],c['@value'])for c in code_list]\n",
    "            code_dict[search_key] = code\n",
    "        return code_dict\n",
    "    else:\n",
    "        search_key = dimension_list[dimension_num-1]['@codelist']\n",
    "        key = f\"CodeList/{search_key}\"\n",
    "        if key == \"CodeList/CL_FREQ\":\n",
    "            return f\"Error: Codes of CL_FREQ(dimension_num={dimension_num}) are invalid\"\n",
    "        else:\n",
    "            code_list = requests.get(f'{url}{key}').json()\\\n",
    "            ['Structure']['CodeLists']['CodeList']['Code']\n",
    "            code = [(c['Description']['#text'],c['@value']) for c in code_list]\n",
    "            print(f\"Retrieved {search_key}'s codes\")\n",
    "            return code"
   ]
  },
  {
   "cell_type": "code",
   "execution_count": 248,
   "metadata": {},
   "outputs": [],
   "source": [
    "codes = get_imf_code_list(dimension_list, 0)"
   ]
  },
  {
   "cell_type": "code",
   "execution_count": 241,
   "metadata": {},
   "outputs": [],
   "source": [
    "def get_imf_code(codes:list, string:str) -> str:\n",
    "    dic = dict(codes)\n",
    "    matching_keys = {key: value for key, value in dic.items() if string in key}\n",
    "    return matching_keys"
   ]
  },
  {
   "cell_type": "code",
   "execution_count": 256,
   "metadata": {},
   "outputs": [
    {
     "data": {
      "text/plain": [
       "{'Gross Domestic Product, Deflator, Index': 'NGDP_D_IX',\n",
       " 'Gross Domestic Product, Deflator, Seasonally Adjusted, Index': 'NGDP_D_SA_IX',\n",
       " 'Gross Domestic Product, Nominal, Domestic Currency': 'NGDP_XDC',\n",
       " 'Gross Domestic Product, Nominal, Seasonally Adjusted, Domestic Currency': 'NGDP_SA_XDC',\n",
       " 'Gross Domestic Product, Nominal, Seasonally Adjusted, in Purchasing-Power-Parity International Dollars': 'NGDP_SA_PU',\n",
       " 'Gross Domestic Product, Nominal, Unadjusted, Domestic Currency': 'NGDP_NSA_XDC',\n",
       " 'Gross Domestic Product, Real, Domestic Currency': 'NGDP_R_XDC',\n",
       " 'Gross Domestic Product, Real, Seasonally Adjusted, Domestic Currency': 'NGDP_R_SA_XDC',\n",
       " 'Gross Domestic Product, Real, Seasonally Adjusted, in Purchasing-Power-Parity International Dollars': 'NGDP_R_SA_PU',\n",
       " 'Gross Domestic Product, Real, Unadjusted, Domestic Currency': 'NGDP_R_NSA_XDC'}"
      ]
     },
     "execution_count": 256,
     "metadata": {},
     "output_type": "execute_result"
    }
   ],
   "source": [
    "ls = get_imf_code(codes['CL_INDICATOR_IFS'], 'Gross Domestic Product')\n",
    "ls"
   ]
  },
  {
   "cell_type": "markdown",
   "metadata": {},
   "source": [
    "---"
   ]
  },
  {
   "cell_type": "code",
   "execution_count": 158,
   "metadata": {},
   "outputs": [],
   "source": [
    "\n",
    "# key includes two partners, B0 and W00 for EU and \n",
    "url = 'http://dataservices.imf.org/REST/SDMX_JSON.svc/'\n",
    "key = 'CompactData/DOT/M.GB.TMG_CIF_USD.B0+W00'\n",
    "\n",
    "# Retrieve data from IMF API\n",
    "data = requests.get(f'{url}{key}').json()\n",
    "\n",
    "# Convert results to pandas dataframe\n",
    "df = pd.DataFrame({s['@COUNTERPART_AREA'] : {pd.to_datetime(i['@TIME_PERIOD']) : \n",
    "     round(float(i['@OBS_VALUE']), 1) for i in s['Obs']} \n",
    "     for s in data['CompactData']['DataSet']['Series']})"
   ]
  },
  {
   "cell_type": "code",
   "execution_count": 159,
   "metadata": {},
   "outputs": [
    {
     "name": "stdout",
     "output_type": "stream",
     "text": [
      "Country: United Kingdom; Indicator: Index\n"
     ]
    }
   ],
   "source": [
    "url = 'http://dataservices.imf.org/REST/SDMX_JSON.svc/'\n",
    "key = 'GenericMetadata/IFS/M.GB.PMP_IX'\n",
    "metadata = requests.get(f'{url}{key}').json()\n",
    "country = metadata['GenericMetadata']['MetadataSet']\\\n",
    "            ['AttributeValueSet'][1]['ReportedAttribute']\\\n",
    "            [1]['ReportedAttribute'][3]['Value']['#text']\n",
    "indicator = metadata['GenericMetadata']['MetadataSet']\\\n",
    "            ['AttributeValueSet'][2]['ReportedAttribute']\\\n",
    "            [1]['ReportedAttribute'][4]['Value']['#text']\n",
    "print(f'Country: {country}; Indicator: {indicator}')"
   ]
  },
  {
   "cell_type": "markdown",
   "metadata": {},
   "source": [
    "---"
   ]
  },
  {
   "cell_type": "code",
   "execution_count": null,
   "metadata": {},
   "outputs": [],
   "source": [
    "def get_imf_data(database, frequency, indicator, start, end):\n",
    "    host = 'http://dataservices.imf.org/REST/SDMX_JSON.svc/CompactData'\n",
    "\n",
    "    \n",
    "    ds = database #IFS, BOP, etc\n",
    "    \n",
    "    freq = frequency\n",
    "    \n",
    "    ind = indicator\n",
    "    \n",
    "    url = host + '/' + ds + '/' + freq + '.' + ind + '.' + '?startPeriod=' + start + '&endPeriod=' + end"
   ]
  },
  {
   "cell_type": "code",
   "execution_count": 261,
   "metadata": {},
   "outputs": [
    {
     "name": "stdout",
     "output_type": "stream",
     "text": [
      "{'CompactData': {'@xmlns:xsi': 'http://www.w3.org/2001/XMLSchema-instance', '@xmlns:xsd': 'http://www.w3.org/2001/XMLSchema', '@xsi:schemaLocation': 'http://www.SDMX.org/resources/SDMXML/schemas/v2_0/message https://registry.sdmx.org/schemas/v2_0/SDMXMessage.xsd http://dataservices.imf.org/compact/IFS http://dataservices.imf.org/compact/IFS.xsd', '@xmlns': 'http://www.SDMX.org/resources/SDMXML/schemas/v2_0/message', 'Header': {'ID': '1eece89c-0cdf-49fb-8ba6-14cccf9a0857', 'Test': 'false', 'Prepared': '2024-12-05T02:25:49', 'Sender': {'@id': '1C0', 'Name': {'@xml:lang': 'en', '#text': 'IMF'}, 'Contact': {'URI': 'http://www.imf.org', 'Telephone': '+ 1 (202) 623-6220'}}, 'Receiver': {'@id': 'ZZZ'}, 'DataSetID': 'IFS'}, 'DataSet': {'@xmlns': 'http://dataservices.imf.org/compact/IFS'}}}\n"
     ]
    }
   ],
   "source": [
    "url = 'http://dataservices.imf.org/REST/SDMX_JSON.svc/'\n",
    "key = 'CompactData/IFS/Q.JP.NGDP_R_XDC/?startPeriod=1980&endPeriod=2024' # adjust codes here\n",
    "\n",
    "# Navigate to series in API-returned JSON data\n",
    "data = (requests.get(f'{url}{key}').json())\n",
    "\n",
    "print(data)\n"
   ]
  },
  {
   "cell_type": "code",
   "execution_count": 254,
   "metadata": {},
   "outputs": [
    {
     "ename": "KeyError",
     "evalue": "'Series'",
     "output_type": "error",
     "traceback": [
      "\u001b[1;31m---------------------------------------------------------------------------\u001b[0m",
      "\u001b[1;31mKeyError\u001b[0m                                  Traceback (most recent call last)",
      "Cell \u001b[1;32mIn[254], line 3\u001b[0m\n\u001b[0;32m      1\u001b[0m url \u001b[38;5;241m=\u001b[39m \u001b[38;5;124m'\u001b[39m\u001b[38;5;124mhttp://dataservices.imf.org/REST/SDMX_JSON.svc/\u001b[39m\u001b[38;5;124m'\u001b[39m\n\u001b[0;32m      2\u001b[0m key \u001b[38;5;241m=\u001b[39m \u001b[38;5;124m'\u001b[39m\u001b[38;5;124mCompactData/IFS/Q.US.NGDP_R_SA_PU/?startPeriod=1980&endPeriod=2024\u001b[39m\u001b[38;5;124m'\u001b[39m\n\u001b[1;32m----> 3\u001b[0m data \u001b[38;5;241m=\u001b[39m (\u001b[43mrequests\u001b[49m\u001b[38;5;241;43m.\u001b[39;49m\u001b[43mget\u001b[49m\u001b[43m(\u001b[49m\u001b[38;5;124;43mf\u001b[39;49m\u001b[38;5;124;43m'\u001b[39;49m\u001b[38;5;132;43;01m{\u001b[39;49;00m\u001b[43murl\u001b[49m\u001b[38;5;132;43;01m}\u001b[39;49;00m\u001b[38;5;132;43;01m{\u001b[39;49;00m\u001b[43mkey\u001b[49m\u001b[38;5;132;43;01m}\u001b[39;49;00m\u001b[38;5;124;43m'\u001b[39;49m\u001b[43m)\u001b[49m\u001b[38;5;241;43m.\u001b[39;49m\u001b[43mjson\u001b[49m\u001b[43m(\u001b[49m\u001b[43m)\u001b[49m\u001b[43m[\u001b[49m\u001b[38;5;124;43m'\u001b[39;49m\u001b[38;5;124;43mCompactData\u001b[39;49m\u001b[38;5;124;43m'\u001b[39;49m\u001b[43m]\u001b[49m\u001b[43m[\u001b[49m\u001b[38;5;124;43m'\u001b[39;49m\u001b[38;5;124;43mDataSet\u001b[39;49m\u001b[38;5;124;43m'\u001b[39;49m\u001b[43m]\u001b[49m\u001b[43m[\u001b[49m\u001b[38;5;124;43m'\u001b[39;49m\u001b[38;5;124;43mSeries\u001b[39;49m\u001b[38;5;124;43m'\u001b[39;49m\u001b[43m]\u001b[49m)\n\u001b[0;32m      5\u001b[0m \u001b[38;5;66;03m# Create pandas dataframe from the observations\u001b[39;00m\n\u001b[0;32m      6\u001b[0m data_list \u001b[38;5;241m=\u001b[39m [[obs\u001b[38;5;241m.\u001b[39mget(\u001b[38;5;124m'\u001b[39m\u001b[38;5;124m@TIME_PERIOD\u001b[39m\u001b[38;5;124m'\u001b[39m), obs\u001b[38;5;241m.\u001b[39mget(\u001b[38;5;124m'\u001b[39m\u001b[38;5;124m@OBS_VALUE\u001b[39m\u001b[38;5;124m'\u001b[39m)]\n\u001b[0;32m      7\u001b[0m              \u001b[38;5;28;01mfor\u001b[39;00m obs \u001b[38;5;129;01min\u001b[39;00m data[\u001b[38;5;124m'\u001b[39m\u001b[38;5;124mObs\u001b[39m\u001b[38;5;124m'\u001b[39m]]\n",
      "\u001b[1;31mKeyError\u001b[0m: 'Series'"
     ]
    }
   ],
   "source": [
    "url = 'http://dataservices.imf.org/REST/SDMX_JSON.svc/'\n",
    "key = 'CompactData/IFS/Q.US.NGDP_R_SA_PU/?startPeriod=1980&endPeriod=2024'\n",
    "data = (requests.get(f'{url}{key}').json()['CompactData']['DataSet']['Series'])\n",
    "\n",
    "# Create pandas dataframe from the observations\n",
    "data_list = [[obs.get('@TIME_PERIOD'), obs.get('@OBS_VALUE')]\n",
    "             for obs in data['Obs']]\n",
    "\n",
    "df = pd.DataFrame(data_list, columns=['date', 'value'])\n",
    "df = df.set_index(pd.to_datetime(df['date']))['value'].astype('float')\n",
    "df"
   ]
  }
 ],
 "metadata": {
  "kernelspec": {
   "display_name": "Python 3",
   "language": "python",
   "name": "python3"
  },
  "language_info": {
   "codemirror_mode": {
    "name": "ipython",
    "version": 3
   },
   "file_extension": ".py",
   "mimetype": "text/x-python",
   "name": "python",
   "nbconvert_exporter": "python",
   "pygments_lexer": "ipython3",
   "version": "3.12.2"
  }
 },
 "nbformat": 4,
 "nbformat_minor": 2
}
